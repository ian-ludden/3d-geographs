{
 "cells": [
  {
   "cell_type": "code",
   "execution_count": 1,
   "id": "3a9dc441",
   "metadata": {},
   "outputs": [],
   "source": [
    "import numpy as np\n",
    "import os\n",
    "import pandas as pd"
   ]
  },
  {
   "cell_type": "markdown",
   "id": "ae9cf259",
   "metadata": {},
   "source": [
    "# Visualize Final Partition"
   ]
  },
  {
   "cell_type": "code",
   "execution_count": 29,
   "id": "252b9414",
   "metadata": {},
   "outputs": [],
   "source": [
    "# Copied/modified from VisTruncOctahedron\n",
    "def gen_face(faces_str, vertices_str, color_rgb='<red_val, green_val, blue_val>'):\n",
    "    total_str = \"\"\n",
    "    for face_str in faces_str:\n",
    "        total_str += '// ' + face_str + '\\n'\n",
    "        total_str += 'polygon {' + '\\n'\n",
    "\n",
    "        face = face_str[1:-1].split(',')\n",
    "        total_str += '\\t{},'.format(len(face)) + '\\n'\n",
    "\n",
    "        vtx_str = \"\"\n",
    "        for vi in face:\n",
    "            vtx_str += \"<\" + vertices_str[int(vi)][1:-1] + \">, \"\n",
    "        vtx_str = vtx_str[:-2] # Remove last comma\n",
    "        total_str += '\\t' + vtx_str + '\\n'\n",
    "\n",
    "        total_str += '\\tfinish { ambient 0.42 specular 0.5 }\\n'\n",
    "        total_str += '\\tpigment { rgb ' + color_rgb + ' }\\n'\n",
    "        total_str += '}\\n\\n'\n",
    "    \n",
    "    return total_str"
   ]
  },
  {
   "cell_type": "markdown",
   "id": "49a2e2b7",
   "metadata": {},
   "source": [
    "## Set Parameters"
   ]
  },
  {
   "cell_type": "code",
   "execution_count": 20,
   "id": "e991eda1",
   "metadata": {},
   "outputs": [],
   "source": [
    "K = 2\n",
    "S = 10\n",
    "honeycomb_type = \"grid\" # \"grid\" or bcc\""
   ]
  },
  {
   "cell_type": "code",
   "execution_count": 21,
   "id": "4b78ea41",
   "metadata": {},
   "outputs": [],
   "source": [
    "colors = np.array([[251, 112, 82], [227, 0, 118], [40, 165, 0], [40, 175, 175]]) / 255.\n",
    "colors_str = ['<' + ','.join(list(color.astype(str))) + '>' for color in colors]"
   ]
  },
  {
   "cell_type": "code",
   "execution_count": 22,
   "id": "13f0db75",
   "metadata": {},
   "outputs": [],
   "source": [
    "partition_fname = \"partition_{}_{}_K{}.csv\".format(honeycomb_type, S, K)"
   ]
  },
  {
   "cell_type": "markdown",
   "id": "6f195102",
   "metadata": {},
   "source": [
    "## Load Partition"
   ]
  },
  {
   "cell_type": "code",
   "execution_count": 23,
   "id": "4a443353",
   "metadata": {},
   "outputs": [
    {
     "data": {
      "text/html": [
       "<div>\n",
       "<style scoped>\n",
       "    .dataframe tbody tr th:only-of-type {\n",
       "        vertical-align: middle;\n",
       "    }\n",
       "\n",
       "    .dataframe tbody tr th {\n",
       "        vertical-align: top;\n",
       "    }\n",
       "\n",
       "    .dataframe thead th {\n",
       "        text-align: right;\n",
       "    }\n",
       "</style>\n",
       "<table border=\"1\" class=\"dataframe\">\n",
       "  <thead>\n",
       "    <tr style=\"text-align: right;\">\n",
       "      <th></th>\n",
       "      <th>Part</th>\n",
       "    </tr>\n",
       "    <tr>\n",
       "      <th>ID</th>\n",
       "      <th></th>\n",
       "    </tr>\n",
       "  </thead>\n",
       "  <tbody>\n",
       "    <tr>\n",
       "      <th>0</th>\n",
       "      <td>2</td>\n",
       "    </tr>\n",
       "    <tr>\n",
       "      <th>1</th>\n",
       "      <td>2</td>\n",
       "    </tr>\n",
       "    <tr>\n",
       "      <th>2</th>\n",
       "      <td>2</td>\n",
       "    </tr>\n",
       "    <tr>\n",
       "      <th>3</th>\n",
       "      <td>1</td>\n",
       "    </tr>\n",
       "    <tr>\n",
       "      <th>4</th>\n",
       "      <td>1</td>\n",
       "    </tr>\n",
       "  </tbody>\n",
       "</table>\n",
       "</div>"
      ],
      "text/plain": [
       "    Part\n",
       "ID      \n",
       "0      2\n",
       "1      2\n",
       "2      2\n",
       "3      1\n",
       "4      1"
      ]
     },
     "execution_count": 23,
     "metadata": {},
     "output_type": "execute_result"
    }
   ],
   "source": [
    "dfpart = pd.read_csv(partition_fname)\n",
    "dfpart = dfpart.rename(columns={'cell_id': 'ID', 'part': 'Part'})\n",
    "dfpart = dfpart.set_index('ID')\n",
    "dfpart.head()"
   ]
  },
  {
   "cell_type": "markdown",
   "id": "3abf534f",
   "metadata": {},
   "source": [
    "## Load semicolon-separated version of Voro++ output"
   ]
  },
  {
   "cell_type": "code",
   "execution_count": 24,
   "id": "e885df48",
   "metadata": {},
   "outputs": [],
   "source": [
    "in_fname = f\"../generate_input/{honeycomb_type}/{honeycomb_type}_{S}.csv\""
   ]
  },
  {
   "cell_type": "code",
   "execution_count": 25,
   "id": "f3418e3f",
   "metadata": {},
   "outputs": [],
   "source": [
    "in_fname_sc = f\"../tmp/{honeycomb_type}_{S}_sc.csv\"\n",
    "if not os.path.exists(in_fname_sc):\n",
    "    raise Exception(f\"Missing semicolon-separated version of {in_fname}. Not found at {in_fname_sc}\")"
   ]
  },
  {
   "cell_type": "code",
   "execution_count": 26,
   "id": "b24d8004",
   "metadata": {
    "scrolled": true
   },
   "outputs": [
    {
     "data": {
      "text/html": [
       "<div>\n",
       "<style scoped>\n",
       "    .dataframe tbody tr th:only-of-type {\n",
       "        vertical-align: middle;\n",
       "    }\n",
       "\n",
       "    .dataframe tbody tr th {\n",
       "        vertical-align: top;\n",
       "    }\n",
       "\n",
       "    .dataframe thead th {\n",
       "        text-align: right;\n",
       "    }\n",
       "</style>\n",
       "<table border=\"1\" class=\"dataframe\">\n",
       "  <thead>\n",
       "    <tr style=\"text-align: right;\">\n",
       "      <th></th>\n",
       "      <th>No. Neighbors</th>\n",
       "      <th>Neighbors</th>\n",
       "      <th>Faces</th>\n",
       "      <th>Vertices</th>\n",
       "      <th>Part</th>\n",
       "    </tr>\n",
       "    <tr>\n",
       "      <th>ID</th>\n",
       "      <th></th>\n",
       "      <th></th>\n",
       "      <th></th>\n",
       "      <th></th>\n",
       "      <th></th>\n",
       "    </tr>\n",
       "  </thead>\n",
       "  <tbody>\n",
       "    <tr>\n",
       "      <th>0</th>\n",
       "      <td>6</td>\n",
       "      <td>100 -3 -5 10 -1 1</td>\n",
       "      <td>(1,5,7,3) (1,0,4,5) (1,3,2,0) (2,3,7,6) (2,6,4...</td>\n",
       "      <td>(0,0,0) (1,0,0) (0,1,0) (1,1,0) (0,0,1) (1,0,1...</td>\n",
       "      <td>2</td>\n",
       "    </tr>\n",
       "    <tr>\n",
       "      <th>1</th>\n",
       "      <td>6</td>\n",
       "      <td>101 -3 0 11 2 -1</td>\n",
       "      <td>(1,3,5,2) (1,0,4,3) (1,2,6,0) (2,5,7,6) (3,4,7...</td>\n",
       "      <td>(0,0,1) (1,0,1) (1,1,1) (1,0,2) (0,0,2) (1,1,2...</td>\n",
       "      <td>2</td>\n",
       "    </tr>\n",
       "    <tr>\n",
       "      <th>2</th>\n",
       "      <td>6</td>\n",
       "      <td>102 -3 1 12 3 -1</td>\n",
       "      <td>(1,3,5,2) (1,0,4,3) (1,2,6,0) (2,5,7,6) (3,4,7...</td>\n",
       "      <td>(0,0,2) (1,0,2) (1,1,2) (1,0,3) (0,0,3) (1,1,3...</td>\n",
       "      <td>2</td>\n",
       "    </tr>\n",
       "    <tr>\n",
       "      <th>3</th>\n",
       "      <td>6</td>\n",
       "      <td>103 -3 2 13 4 -1</td>\n",
       "      <td>(1,3,5,2) (1,0,4,3) (1,2,6,0) (2,5,7,6) (3,4,7...</td>\n",
       "      <td>(0,0,3) (1,0,3) (1,1,3) (1,0,4) (0,0,4) (1,1,4...</td>\n",
       "      <td>1</td>\n",
       "    </tr>\n",
       "    <tr>\n",
       "      <th>4</th>\n",
       "      <td>6</td>\n",
       "      <td>14 104 3 -1 5 -3</td>\n",
       "      <td>(1,7,2,3) (1,5,6,7) (1,3,0,5) (2,4,0,3) (2,7,6...</td>\n",
       "      <td>(0,0,4) (1,1,4) (0,1,5) (0,1,4) (0,0,5) (1,0,4...</td>\n",
       "      <td>1</td>\n",
       "    </tr>\n",
       "  </tbody>\n",
       "</table>\n",
       "</div>"
      ],
      "text/plain": [
       "    No. Neighbors          Neighbors  \\\n",
       "ID                                     \n",
       "0               6  100 -3 -5 10 -1 1   \n",
       "1               6   101 -3 0 11 2 -1   \n",
       "2               6   102 -3 1 12 3 -1   \n",
       "3               6   103 -3 2 13 4 -1   \n",
       "4               6   14 104 3 -1 5 -3   \n",
       "\n",
       "                                                Faces  \\\n",
       "ID                                                      \n",
       "0   (1,5,7,3) (1,0,4,5) (1,3,2,0) (2,3,7,6) (2,6,4...   \n",
       "1   (1,3,5,2) (1,0,4,3) (1,2,6,0) (2,5,7,6) (3,4,7...   \n",
       "2   (1,3,5,2) (1,0,4,3) (1,2,6,0) (2,5,7,6) (3,4,7...   \n",
       "3   (1,3,5,2) (1,0,4,3) (1,2,6,0) (2,5,7,6) (3,4,7...   \n",
       "4   (1,7,2,3) (1,5,6,7) (1,3,0,5) (2,4,0,3) (2,7,6...   \n",
       "\n",
       "                                             Vertices  Part  \n",
       "ID                                                           \n",
       "0   (0,0,0) (1,0,0) (0,1,0) (1,1,0) (0,0,1) (1,0,1...     2  \n",
       "1   (0,0,1) (1,0,1) (1,1,1) (1,0,2) (0,0,2) (1,1,2...     2  \n",
       "2   (0,0,2) (1,0,2) (1,1,2) (1,0,3) (0,0,3) (1,1,3...     2  \n",
       "3   (0,0,3) (1,0,3) (1,1,3) (1,0,4) (0,0,4) (1,1,4...     1  \n",
       "4   (0,0,4) (1,1,4) (0,1,5) (0,1,4) (0,0,5) (1,0,4...     1  "
      ]
     },
     "execution_count": 26,
     "metadata": {},
     "output_type": "execute_result"
    }
   ],
   "source": [
    "df = pd.read_csv(in_fname_sc, sep=';', header=1)\n",
    "df = df.set_index('ID')\n",
    "df = df.join(dfpart)\n",
    "df.head()"
   ]
  },
  {
   "cell_type": "code",
   "execution_count": 27,
   "id": "85187a8a",
   "metadata": {},
   "outputs": [],
   "source": [
    "parts = sorted(list(np.unique(df['Part'])))"
   ]
  },
  {
   "cell_type": "markdown",
   "id": "45c4185b",
   "metadata": {},
   "source": [
    "## Generate POV Ray file for each part"
   ]
  },
  {
   "cell_type": "code",
   "execution_count": 37,
   "id": "c2743460",
   "metadata": {},
   "outputs": [],
   "source": [
    "for part in parts:\n",
    "    out_fname = \"partition_{}_{}_K{}_{}.pov\".format(honeycomb_type, S, K, part)\n",
    "    with open(out_fname, 'w') as f:\n",
    "        f.write('#version 3.6;\\n')\n",
    "        f.write('// Right-handed coordinate system in which the z-axis points upwards\\n')\n",
    "        f.write('camera {\\n')\n",
    "        f.write(f\"\\tlocation <{3*S}, {-6.5*S}, {4*S}>\\n\")\n",
    "        f.write('\\tsky z\\n')\n",
    "        f.write('\\tright -0.22*x*image_width/image_height\\n')\n",
    "        f.write('\\tup 0.22*z\\n')\n",
    "        f.write(f\"\\tlook_at <{S/2}, {S/2}, {S/2}>\\n\")\n",
    "        f.write('\\t}\\n')\n",
    "\n",
    "        f.write(f\"#declare red_val={colors[part - 1][0]};\\n\");\n",
    "        f.write(f\"#declare green_val={colors[part - 1][1]};\\n\");\n",
    "        f.write(f\"#declare blue_val={colors[part - 1][2]};\\n\");\n",
    "\n",
    "        f.write('// White background\\n')\n",
    "        f.write('background{rgb 1}\\n')\n",
    "\n",
    "        f.write('// Two lights with slightly different colors\\n')\n",
    "        f.write('light_source{<-8,-20,30> color rgb <0.77,0.75,0.75>}\\n')\n",
    "        f.write('light_source{<25,-12,12> color rgb <0.38,0.40,0.40>}\\n')\n",
    "        f.write('')\n",
    "        \n",
    "        # Write faces of each cell in part, as polygons\n",
    "        for idx in df.index:\n",
    "            if df.loc[idx, 'Part'] == part:\n",
    "                cell_str = gen_face(df.loc[idx, 'Faces'].split(' '), df.loc[idx, 'Vertices'].split(' '))\n",
    "                f.write(cell_str)"
   ]
  },
  {
   "cell_type": "code",
   "execution_count": 41,
   "id": "7e6131f3",
   "metadata": {},
   "outputs": [],
   "source": [
    "dirlist = os.listdir('./')\n",
    "partitions = [file for file in dirlist if (file[:9] == 'partition' and file[-4:] == '.csv')]"
   ]
  },
  {
   "cell_type": "code",
   "execution_count": 42,
   "id": "9bd705cf",
   "metadata": {},
   "outputs": [
    {
     "name": "stdout",
     "output_type": "stream",
     "text": [
      "6\n",
      "['partition_bcc_10_K2.csv', 'partition_bcc_10_K25.csv', 'partition_bcc_10_K8.csv', 'partition_grid_10_K2.csv', 'partition_grid_10_K25.csv', 'partition_grid_10_K8.csv']\n"
     ]
    }
   ],
   "source": []
  },
  {
   "cell_type": "code",
   "execution_count": null,
   "id": "1e0d8895",
   "metadata": {},
   "outputs": [],
   "source": []
  }
 ],
 "metadata": {
  "kernelspec": {
   "display_name": "Python 3 (ipykernel)",
   "language": "python",
   "name": "python3"
  },
  "language_info": {
   "codemirror_mode": {
    "name": "ipython",
    "version": 3
   },
   "file_extension": ".py",
   "mimetype": "text/x-python",
   "name": "python",
   "nbconvert_exporter": "python",
   "pygments_lexer": "ipython3",
   "version": "3.9.4"
  }
 },
 "nbformat": 4,
 "nbformat_minor": 5
}
