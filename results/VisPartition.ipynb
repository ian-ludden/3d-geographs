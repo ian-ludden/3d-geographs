{
 "cells": [
  {
   "cell_type": "code",
   "execution_count": 20,
   "id": "3a9dc441",
   "metadata": {},
   "outputs": [],
   "source": [
    "import numpy as np\n",
    "import os\n",
    "import pandas as pd"
   ]
  },
  {
   "cell_type": "markdown",
   "id": "ae9cf259",
   "metadata": {},
   "source": [
    "# Visualize Final Partition"
   ]
  },
  {
   "cell_type": "code",
   "execution_count": 21,
   "id": "252b9414",
   "metadata": {},
   "outputs": [],
   "source": [
    "# Copied from VisTruncOctahedron\n",
    "def gen_face(faces_str, vertices_str, color_rgb='<red_val, green_val, blue_val>'):\n",
    "    for face_str in faces_str:\n",
    "        print('// ' + face_str)\n",
    "        print('polygon {')\n",
    "\n",
    "        face = face_str[1:-1].split(',')\n",
    "        print('\\t{},'.format(len(face)))\n",
    "\n",
    "        vtx_str = \"\"\n",
    "        for vi in face:\n",
    "            vtx_str += \"<\" + vertices_str[int(vi)][1:-1] + \">, \"\n",
    "        vtx_str = vtx_str[:-2] # Remove last comma\n",
    "        print('\\t' + vtx_str)\n",
    "\n",
    "        print('\\tfinish { ambient 0.42 specular 0.5 }')\n",
    "        print('\\tpigment { rgb ' + color_rgb + ' }')\n",
    "        print('}\\n')"
   ]
  },
  {
   "cell_type": "markdown",
   "id": "49a2e2b7",
   "metadata": {},
   "source": [
    "## Set Parameters"
   ]
  },
  {
   "cell_type": "code",
   "execution_count": 7,
   "id": "e991eda1",
   "metadata": {},
   "outputs": [],
   "source": [
    "K = 2\n",
    "S = 10\n",
    "honeycomb_type = \"grid\" # \"grid\" or bcc\""
   ]
  },
  {
   "cell_type": "code",
   "execution_count": 10,
   "id": "4b78ea41",
   "metadata": {},
   "outputs": [],
   "source": [
    "colors = np.array([[251, 112, 82], [227, 0, 118], [40, 165, 0], [40, 175, 175]]) / 255.\n",
    "colors_str = ['<' + ','.join(list(color.astype(str))) + '>' for color in colors]"
   ]
  },
  {
   "cell_type": "code",
   "execution_count": 8,
   "id": "13f0db75",
   "metadata": {},
   "outputs": [],
   "source": [
    "partition_fname = \"partition_{}_{}_K{}.csv\".format(honeycomb_type, S, K)"
   ]
  },
  {
   "cell_type": "markdown",
   "id": "6f195102",
   "metadata": {},
   "source": [
    "## Load Partition"
   ]
  },
  {
   "cell_type": "code",
   "execution_count": 9,
   "id": "4a443353",
   "metadata": {},
   "outputs": [
    {
     "data": {
      "text/html": [
       "<div>\n",
       "<style scoped>\n",
       "    .dataframe tbody tr th:only-of-type {\n",
       "        vertical-align: middle;\n",
       "    }\n",
       "\n",
       "    .dataframe tbody tr th {\n",
       "        vertical-align: top;\n",
       "    }\n",
       "\n",
       "    .dataframe thead th {\n",
       "        text-align: right;\n",
       "    }\n",
       "</style>\n",
       "<table border=\"1\" class=\"dataframe\">\n",
       "  <thead>\n",
       "    <tr style=\"text-align: right;\">\n",
       "      <th></th>\n",
       "      <th>cell_id</th>\n",
       "      <th>part</th>\n",
       "    </tr>\n",
       "  </thead>\n",
       "  <tbody>\n",
       "    <tr>\n",
       "      <th>0</th>\n",
       "      <td>0</td>\n",
       "      <td>2</td>\n",
       "    </tr>\n",
       "    <tr>\n",
       "      <th>1</th>\n",
       "      <td>1</td>\n",
       "      <td>2</td>\n",
       "    </tr>\n",
       "    <tr>\n",
       "      <th>2</th>\n",
       "      <td>2</td>\n",
       "      <td>2</td>\n",
       "    </tr>\n",
       "    <tr>\n",
       "      <th>3</th>\n",
       "      <td>3</td>\n",
       "      <td>1</td>\n",
       "    </tr>\n",
       "    <tr>\n",
       "      <th>4</th>\n",
       "      <td>4</td>\n",
       "      <td>1</td>\n",
       "    </tr>\n",
       "  </tbody>\n",
       "</table>\n",
       "</div>"
      ],
      "text/plain": [
       "   cell_id  part\n",
       "0        0     2\n",
       "1        1     2\n",
       "2        2     2\n",
       "3        3     1\n",
       "4        4     1"
      ]
     },
     "execution_count": 9,
     "metadata": {},
     "output_type": "execute_result"
    }
   ],
   "source": [
    "dfpart = pd.read_csv(partition_fname)\n",
    "dfpart.head()"
   ]
  },
  {
   "cell_type": "markdown",
   "id": "3abf534f",
   "metadata": {},
   "source": [
    "## Load semicolon-separated version of Voro++ output"
   ]
  },
  {
   "cell_type": "code",
   "execution_count": 23,
   "id": "e885df48",
   "metadata": {},
   "outputs": [],
   "source": [
    "in_fname = f\"../generate_input/{honeycomb_type}/{honeycomb_type}_{S}.csv\""
   ]
  },
  {
   "cell_type": "code",
   "execution_count": 28,
   "id": "f3418e3f",
   "metadata": {},
   "outputs": [],
   "source": [
    "in_fname_sc = f\"../tmp/{honeycomb_type}_{S}_sc.csv\"\n",
    "if not os.path.exists(in_fname_sc):\n",
    "    raise Exception(f\"Missing semicolon-separated version of {in_fname}. Not found at {in_fname_sc}\")"
   ]
  },
  {
   "cell_type": "code",
   "execution_count": 29,
   "id": "b24d8004",
   "metadata": {},
   "outputs": [
    {
     "data": {
      "text/html": [
       "<div>\n",
       "<style scoped>\n",
       "    .dataframe tbody tr th:only-of-type {\n",
       "        vertical-align: middle;\n",
       "    }\n",
       "\n",
       "    .dataframe tbody tr th {\n",
       "        vertical-align: top;\n",
       "    }\n",
       "\n",
       "    .dataframe thead th {\n",
       "        text-align: right;\n",
       "    }\n",
       "</style>\n",
       "<table border=\"1\" class=\"dataframe\">\n",
       "  <thead>\n",
       "    <tr style=\"text-align: right;\">\n",
       "      <th></th>\n",
       "      <th>No. Neighbors</th>\n",
       "      <th>Neighbors</th>\n",
       "      <th>Faces</th>\n",
       "      <th>Vertices</th>\n",
       "    </tr>\n",
       "    <tr>\n",
       "      <th>ID</th>\n",
       "      <th></th>\n",
       "      <th></th>\n",
       "      <th></th>\n",
       "      <th></th>\n",
       "    </tr>\n",
       "  </thead>\n",
       "  <tbody>\n",
       "    <tr>\n",
       "      <th>0</th>\n",
       "      <td>6</td>\n",
       "      <td>100 -3 -5 10 -1 1</td>\n",
       "      <td>(1,5,7,3) (1,0,4,5) (1,3,2,0) (2,3,7,6) (2,6,4...</td>\n",
       "      <td>(0,0,0) (1,0,0) (0,1,0) (1,1,0) (0,0,1) (1,0,1...</td>\n",
       "    </tr>\n",
       "    <tr>\n",
       "      <th>1</th>\n",
       "      <td>6</td>\n",
       "      <td>101 -3 0 11 2 -1</td>\n",
       "      <td>(1,3,5,2) (1,0,4,3) (1,2,6,0) (2,5,7,6) (3,4,7...</td>\n",
       "      <td>(0,0,1) (1,0,1) (1,1,1) (1,0,2) (0,0,2) (1,1,2...</td>\n",
       "    </tr>\n",
       "    <tr>\n",
       "      <th>2</th>\n",
       "      <td>6</td>\n",
       "      <td>102 -3 1 12 3 -1</td>\n",
       "      <td>(1,3,5,2) (1,0,4,3) (1,2,6,0) (2,5,7,6) (3,4,7...</td>\n",
       "      <td>(0,0,2) (1,0,2) (1,1,2) (1,0,3) (0,0,3) (1,1,3...</td>\n",
       "    </tr>\n",
       "    <tr>\n",
       "      <th>3</th>\n",
       "      <td>6</td>\n",
       "      <td>103 -3 2 13 4 -1</td>\n",
       "      <td>(1,3,5,2) (1,0,4,3) (1,2,6,0) (2,5,7,6) (3,4,7...</td>\n",
       "      <td>(0,0,3) (1,0,3) (1,1,3) (1,0,4) (0,0,4) (1,1,4...</td>\n",
       "    </tr>\n",
       "    <tr>\n",
       "      <th>4</th>\n",
       "      <td>6</td>\n",
       "      <td>14 104 3 -1 5 -3</td>\n",
       "      <td>(1,7,2,3) (1,5,6,7) (1,3,0,5) (2,4,0,3) (2,7,6...</td>\n",
       "      <td>(0,0,4) (1,1,4) (0,1,5) (0,1,4) (0,0,5) (1,0,4...</td>\n",
       "    </tr>\n",
       "  </tbody>\n",
       "</table>\n",
       "</div>"
      ],
      "text/plain": [
       "    No. Neighbors          Neighbors  \\\n",
       "ID                                     \n",
       "0               6  100 -3 -5 10 -1 1   \n",
       "1               6   101 -3 0 11 2 -1   \n",
       "2               6   102 -3 1 12 3 -1   \n",
       "3               6   103 -3 2 13 4 -1   \n",
       "4               6   14 104 3 -1 5 -3   \n",
       "\n",
       "                                                Faces  \\\n",
       "ID                                                      \n",
       "0   (1,5,7,3) (1,0,4,5) (1,3,2,0) (2,3,7,6) (2,6,4...   \n",
       "1   (1,3,5,2) (1,0,4,3) (1,2,6,0) (2,5,7,6) (3,4,7...   \n",
       "2   (1,3,5,2) (1,0,4,3) (1,2,6,0) (2,5,7,6) (3,4,7...   \n",
       "3   (1,3,5,2) (1,0,4,3) (1,2,6,0) (2,5,7,6) (3,4,7...   \n",
       "4   (1,7,2,3) (1,5,6,7) (1,3,0,5) (2,4,0,3) (2,7,6...   \n",
       "\n",
       "                                             Vertices  \n",
       "ID                                                     \n",
       "0   (0,0,0) (1,0,0) (0,1,0) (1,1,0) (0,0,1) (1,0,1...  \n",
       "1   (0,0,1) (1,0,1) (1,1,1) (1,0,2) (0,0,2) (1,1,2...  \n",
       "2   (0,0,2) (1,0,2) (1,1,2) (1,0,3) (0,0,3) (1,1,3...  \n",
       "3   (0,0,3) (1,0,3) (1,1,3) (1,0,4) (0,0,4) (1,1,4...  \n",
       "4   (0,0,4) (1,1,4) (0,1,5) (0,1,4) (0,0,5) (1,0,4...  "
      ]
     },
     "execution_count": 29,
     "metadata": {},
     "output_type": "execute_result"
    }
   ],
   "source": [
    "df = pd.read_csv(in_fname_sc, sep=';', header=1)\n",
    "df = df.set_index('ID')\n",
    "df.head()"
   ]
  },
  {
   "cell_type": "code",
   "execution_count": null,
   "id": "c2743460",
   "metadata": {},
   "outputs": [],
   "source": []
  }
 ],
 "metadata": {
  "kernelspec": {
   "display_name": "Python 3 (ipykernel)",
   "language": "python",
   "name": "python3"
  },
  "language_info": {
   "codemirror_mode": {
    "name": "ipython",
    "version": 3
   },
   "file_extension": ".py",
   "mimetype": "text/x-python",
   "name": "python",
   "nbconvert_exporter": "python",
   "pygments_lexer": "ipython3",
   "version": "3.9.4"
  }
 },
 "nbformat": 4,
 "nbformat_minor": 5
}
